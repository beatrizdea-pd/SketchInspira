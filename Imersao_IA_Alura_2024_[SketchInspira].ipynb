{
  "nbformat": 4,
  "nbformat_minor": 0,
  "metadata": {
    "colab": {
      "provenance": [],
      "authorship_tag": "ABX9TyMXxNY7UANI6DA1ccNylPjG"
    },
    "kernelspec": {
      "name": "python3",
      "display_name": "Python 3"
    },
    "language_info": {
      "name": "python"
    }
  },
  "cells": [
    {
      "cell_type": "markdown",
      "source": [
        "# ✍🌈 **SketchInspira** 🌈✍\n",
        "\n",
        "**Descrição:** Imagine um app que transforma suas ideias em briefings detalhados em um piscar de olhos. Com o **SketchInspira**, você pode dar vida aos seus projetos de forma rápida, eficiente e criativa. Através da inteligência artificial da google, o Gemini, o **SketchInspira** interpreta briefings em forma de texto ou imagens, extraindo as ideias principais, o público-alvo e os requisitos do projeto. Incrível, né? Mas não para por aí!\n",
        "\n",
        "Tire uma foto do seu produto ou ideia do papel e o **SketchInspira** gera um briefing detalhado para você a partir do seu sketch. E ainda tem mais! Ele cria conceitos e traz tendências para produtos físicos com base em seus briefings, permitindo que você explore diferentes estilos e possibilidades rapidamente. E para te ajudar a refinar seus designs, o **SketchInspira** oferece feedback instantâneo, otimizando o processo criativo focado em auxiliar o designer.\n",
        "\n",
        "Com esse app, você acelera o desenvolvimento de produtos, explora mais ideias em menos tempo, supera bloqueios criativos, melhora a comunicação com stakeholders e cria produtos inovadores e diferenciados. Experimente o **SketchInspira** hoje mesmo e veja como a IA pode transformar seu projeto de design!\n",
        "\n",
        "**SketchInspira**: Sketch em briefing -> Briefing em Inspiração.\n",
        "\n",
        "**Autor**: Beatriz Dea\n",
        "\n",
        "**Modelo**: Gemini-1.5-Pro-Latest"
      ],
      "metadata": {
        "id": "IbVLmuVmCtz7"
      }
    },
    {
      "cell_type": "markdown",
      "source": [
        "**⚙ Configurações do Projeto Sketch Inspira ⚙**"
      ],
      "metadata": {
        "id": "gP6USdaX4HEy"
      }
    },
    {
      "cell_type": "code",
      "source": [
        "#Instalação do Google Generative AI\n",
        "!pip install -q -U google-generativeai"
      ],
      "metadata": {
        "id": "VwCyNTMfJGpv"
      },
      "execution_count": 21,
      "outputs": []
    },
    {
      "cell_type": "code",
      "source": [
        "#Importação das bibliotecas utilizadas\n",
        "import google.generativeai as genai\n",
        "import PIL.Image\n",
        "from google.colab import files\n",
        "from google.colab import userdata"
      ],
      "metadata": {
        "id": "hlorUTKPKif_"
      },
      "execution_count": 22,
      "outputs": []
    },
    {
      "cell_type": "code",
      "execution_count": 23,
      "metadata": {
        "id": "rU-9KwG-yCGj"
      },
      "outputs": [],
      "source": [
        "#Configuração para uso da API KEY\n",
        "API_KEY = userdata.get(\"bdkey\")\n",
        "genai.configure(api_key=API_KEY)"
      ]
    },
    {
      "cell_type": "code",
      "source": [
        "#Configuração do modelo\n",
        "config_generation = {\n",
        "    \"candidate_count\": 1,\n",
        "    \"temperature\": 0.9\n",
        "}"
      ],
      "metadata": {
        "id": "HzH4dR6dJSVs"
      },
      "execution_count": 24,
      "outputs": []
    },
    {
      "cell_type": "code",
      "source": [
        "#Configuração dos filtro. Por ser tratar de um conteudo infantil, coloquei o máximo de bloqueio\n",
        "config_safety = {\n",
        "    \"HARASSMENT\": \"BLOCK_SOME\",\n",
        "    \"HATE\": \"BLOCK_SOME\",\n",
        "    \"SEXUAL\": \"BLOCK_SOME\",\n",
        "    \"DANGEROUS\": \"BLOCK_SOME\"\n",
        "}"
      ],
      "metadata": {
        "id": "5Kocv8VQJgWJ"
      },
      "execution_count": 25,
      "outputs": []
    },
    {
      "cell_type": "code",
      "source": [
        "#Definindo modelo que será utilizado\n",
        "define_model = genai.GenerativeModel(model_name=\"gemini-1.5-pro-latest\")"
      ],
      "metadata": {
        "id": "y6yu9bcvJwIH"
      },
      "execution_count": 29,
      "outputs": []
    },
    {
      "cell_type": "markdown",
      "source": [
        "# 🌈✍**SketchInspira**: Sketch em Briefing 🌈✍"
      ],
      "metadata": {
        "id": "t0A3hdLt3l0_"
      }
    },
    {
      "cell_type": "code",
      "source": [
        "#Upload do sketch escolhido\n",
        "print(\"Carregue a imagem que representa o produto ou ideia que você deseja analisar:\")\n",
        "uploaded = files.upload()\n",
        "\n",
        "if uploaded:\n",
        "  uploaded_image_name = next(iter(uploaded.keys()))\n",
        "  img = PIL.Image.open(uploaded_image_name)\n",
        "else:\n",
        "  print(\"Nenhuma imagem selecionada!\")"
      ],
      "metadata": {
        "colab": {
          "base_uri": "https://localhost:8080/",
          "height": 90
        },
        "id": "XwhwYJA9MIFt",
        "outputId": "e1bb623a-ff0f-4d03-c24b-f73c7f1f4dfd"
      },
      "execution_count": 31,
      "outputs": [
        {
          "output_type": "stream",
          "name": "stdout",
          "text": [
            "Carregue a imagem que representa o produto ou ideia que você deseja analisar:\n"
          ]
        },
        {
          "output_type": "display_data",
          "data": {
            "text/plain": [
              "<IPython.core.display.HTML object>"
            ],
            "text/html": [
              "\n",
              "     <input type=\"file\" id=\"files-d46e115b-4b9f-4330-aad5-ae2b5a79e38a\" name=\"files[]\" multiple disabled\n",
              "        style=\"border:none\" />\n",
              "     <output id=\"result-d46e115b-4b9f-4330-aad5-ae2b5a79e38a\">\n",
              "      Upload widget is only available when the cell has been executed in the\n",
              "      current browser session. Please rerun this cell to enable.\n",
              "      </output>\n",
              "      <script>// Copyright 2017 Google LLC\n",
              "//\n",
              "// Licensed under the Apache License, Version 2.0 (the \"License\");\n",
              "// you may not use this file except in compliance with the License.\n",
              "// You may obtain a copy of the License at\n",
              "//\n",
              "//      http://www.apache.org/licenses/LICENSE-2.0\n",
              "//\n",
              "// Unless required by applicable law or agreed to in writing, software\n",
              "// distributed under the License is distributed on an \"AS IS\" BASIS,\n",
              "// WITHOUT WARRANTIES OR CONDITIONS OF ANY KIND, either express or implied.\n",
              "// See the License for the specific language governing permissions and\n",
              "// limitations under the License.\n",
              "\n",
              "/**\n",
              " * @fileoverview Helpers for google.colab Python module.\n",
              " */\n",
              "(function(scope) {\n",
              "function span(text, styleAttributes = {}) {\n",
              "  const element = document.createElement('span');\n",
              "  element.textContent = text;\n",
              "  for (const key of Object.keys(styleAttributes)) {\n",
              "    element.style[key] = styleAttributes[key];\n",
              "  }\n",
              "  return element;\n",
              "}\n",
              "\n",
              "// Max number of bytes which will be uploaded at a time.\n",
              "const MAX_PAYLOAD_SIZE = 100 * 1024;\n",
              "\n",
              "function _uploadFiles(inputId, outputId) {\n",
              "  const steps = uploadFilesStep(inputId, outputId);\n",
              "  const outputElement = document.getElementById(outputId);\n",
              "  // Cache steps on the outputElement to make it available for the next call\n",
              "  // to uploadFilesContinue from Python.\n",
              "  outputElement.steps = steps;\n",
              "\n",
              "  return _uploadFilesContinue(outputId);\n",
              "}\n",
              "\n",
              "// This is roughly an async generator (not supported in the browser yet),\n",
              "// where there are multiple asynchronous steps and the Python side is going\n",
              "// to poll for completion of each step.\n",
              "// This uses a Promise to block the python side on completion of each step,\n",
              "// then passes the result of the previous step as the input to the next step.\n",
              "function _uploadFilesContinue(outputId) {\n",
              "  const outputElement = document.getElementById(outputId);\n",
              "  const steps = outputElement.steps;\n",
              "\n",
              "  const next = steps.next(outputElement.lastPromiseValue);\n",
              "  return Promise.resolve(next.value.promise).then((value) => {\n",
              "    // Cache the last promise value to make it available to the next\n",
              "    // step of the generator.\n",
              "    outputElement.lastPromiseValue = value;\n",
              "    return next.value.response;\n",
              "  });\n",
              "}\n",
              "\n",
              "/**\n",
              " * Generator function which is called between each async step of the upload\n",
              " * process.\n",
              " * @param {string} inputId Element ID of the input file picker element.\n",
              " * @param {string} outputId Element ID of the output display.\n",
              " * @return {!Iterable<!Object>} Iterable of next steps.\n",
              " */\n",
              "function* uploadFilesStep(inputId, outputId) {\n",
              "  const inputElement = document.getElementById(inputId);\n",
              "  inputElement.disabled = false;\n",
              "\n",
              "  const outputElement = document.getElementById(outputId);\n",
              "  outputElement.innerHTML = '';\n",
              "\n",
              "  const pickedPromise = new Promise((resolve) => {\n",
              "    inputElement.addEventListener('change', (e) => {\n",
              "      resolve(e.target.files);\n",
              "    });\n",
              "  });\n",
              "\n",
              "  const cancel = document.createElement('button');\n",
              "  inputElement.parentElement.appendChild(cancel);\n",
              "  cancel.textContent = 'Cancel upload';\n",
              "  const cancelPromise = new Promise((resolve) => {\n",
              "    cancel.onclick = () => {\n",
              "      resolve(null);\n",
              "    };\n",
              "  });\n",
              "\n",
              "  // Wait for the user to pick the files.\n",
              "  const files = yield {\n",
              "    promise: Promise.race([pickedPromise, cancelPromise]),\n",
              "    response: {\n",
              "      action: 'starting',\n",
              "    }\n",
              "  };\n",
              "\n",
              "  cancel.remove();\n",
              "\n",
              "  // Disable the input element since further picks are not allowed.\n",
              "  inputElement.disabled = true;\n",
              "\n",
              "  if (!files) {\n",
              "    return {\n",
              "      response: {\n",
              "        action: 'complete',\n",
              "      }\n",
              "    };\n",
              "  }\n",
              "\n",
              "  for (const file of files) {\n",
              "    const li = document.createElement('li');\n",
              "    li.append(span(file.name, {fontWeight: 'bold'}));\n",
              "    li.append(span(\n",
              "        `(${file.type || 'n/a'}) - ${file.size} bytes, ` +\n",
              "        `last modified: ${\n",
              "            file.lastModifiedDate ? file.lastModifiedDate.toLocaleDateString() :\n",
              "                                    'n/a'} - `));\n",
              "    const percent = span('0% done');\n",
              "    li.appendChild(percent);\n",
              "\n",
              "    outputElement.appendChild(li);\n",
              "\n",
              "    const fileDataPromise = new Promise((resolve) => {\n",
              "      const reader = new FileReader();\n",
              "      reader.onload = (e) => {\n",
              "        resolve(e.target.result);\n",
              "      };\n",
              "      reader.readAsArrayBuffer(file);\n",
              "    });\n",
              "    // Wait for the data to be ready.\n",
              "    let fileData = yield {\n",
              "      promise: fileDataPromise,\n",
              "      response: {\n",
              "        action: 'continue',\n",
              "      }\n",
              "    };\n",
              "\n",
              "    // Use a chunked sending to avoid message size limits. See b/62115660.\n",
              "    let position = 0;\n",
              "    do {\n",
              "      const length = Math.min(fileData.byteLength - position, MAX_PAYLOAD_SIZE);\n",
              "      const chunk = new Uint8Array(fileData, position, length);\n",
              "      position += length;\n",
              "\n",
              "      const base64 = btoa(String.fromCharCode.apply(null, chunk));\n",
              "      yield {\n",
              "        response: {\n",
              "          action: 'append',\n",
              "          file: file.name,\n",
              "          data: base64,\n",
              "        },\n",
              "      };\n",
              "\n",
              "      let percentDone = fileData.byteLength === 0 ?\n",
              "          100 :\n",
              "          Math.round((position / fileData.byteLength) * 100);\n",
              "      percent.textContent = `${percentDone}% done`;\n",
              "\n",
              "    } while (position < fileData.byteLength);\n",
              "  }\n",
              "\n",
              "  // All done.\n",
              "  yield {\n",
              "    response: {\n",
              "      action: 'complete',\n",
              "    }\n",
              "  };\n",
              "}\n",
              "\n",
              "scope.google = scope.google || {};\n",
              "scope.google.colab = scope.google.colab || {};\n",
              "scope.google.colab._files = {\n",
              "  _uploadFiles,\n",
              "  _uploadFilesContinue,\n",
              "};\n",
              "})(self);\n",
              "</script> "
            ]
          },
          "metadata": {}
        },
        {
          "output_type": "stream",
          "name": "stdout",
          "text": [
            "Saving image-skecthtest.webp to image-skecthtest (4).webp\n"
          ]
        }
      ]
    },
    {
      "cell_type": "markdown",
      "source": [
        "# *🌈✍**Seu Sketch em Briefing está pronto!**🌈✍*"
      ],
      "metadata": {
        "id": "uJiDF6R74if4"
      }
    },
    {
      "cell_type": "code",
      "source": [
        "#Prompt já definido para a criação de um briefing de projeto de produto à partir da analise da imagem.\n",
        "prompt = \"Analise a imagem e a partir dela e gere um briefing completo de projeto de design de produto/design industrial. Após a análise da imagem, traga sugestões de: Conceito (Descrição da essência do produto, sua proposta de valor e o problema que ele resolve), Público-Alvo (Definição do público-alvo principal e secundário, suas necessidades, desejos e expectativas), Objetivo Geral (Especificação do objetivo principal do projeto de design), Requisitos de Design (Detalhes sobre os aspectos funcionais e estéticos do produto, incluindo ergonomia, usabilidade, materiais, cores, estilo visual, etc.), Requisitos Não Funcionais (Especificações sobre aspectos não funcionais do produto, como segurança, confiabilidade, sustentabilidade, etc.) e Requisitos Funcionais (Descrição detalhada das funcionalidades do produto, incluindo interações com o usuário, fluxos de trabalho, etc.) Crie um nome e um subtítulo curtos e criativos para o produto no começo da resposta.\"\n",
        "response = define_model.generate_content([prompt, img], stream=True)\n",
        "response.resolve()\n",
        "\n",
        "print(response.text)"
      ],
      "metadata": {
        "colab": {
          "base_uri": "https://localhost:8080/",
          "height": 1000
        },
        "id": "pDCZV5-rV5zy",
        "outputId": "ccf4269c-88c3-4835-abda-d441a334dcf2"
      },
      "execution_count": 30,
      "outputs": [
        {
          "output_type": "stream",
          "name": "stdout",
          "text": [
            "## **Luminary Grip** - Iluminando sua jornada com firmeza.\n",
            "\n",
            "### Conceito:\n",
            "A Luminary Grip é uma lanterna robusta e ergonômica projetada para uso em diversas situações, com foco em atividades ao ar livre e trabalhos que exigem iluminação potente e confiável. Sua proposta de valor reside na combinação de alta potência de iluminação, design ergonômico para uso prolongado, resistência a impactos e intempéries, e funcionalidades adicionais que a tornam versátil e prática.\n",
            "\n",
            "**Problema que resolve:** \n",
            "Muitas lanternas no mercado são frágeis, desconfortáveis para uso prolongado, possuem iluminação fraca ou funcionalidades limitadas. A Luminary Grip surge como uma solução completa para quem precisa de uma lanterna confiável e eficiente em qualquer situação.\n",
            "\n",
            "### Público-Alvo:\n",
            "* **Principal:**  Aventureiros, campistas, esportistas, trabalhadores de campo (construção, segurança, etc.), amantes de DIY.\n",
            "* **Secundário:**  Qualquer pessoa que necessite de uma lanterna potente e confiável para uso doméstico ou em situações de emergência.\n",
            "\n",
            "**Necessidades, desejos e expectativas:**\n",
            "* Iluminação potente e de longo alcance.\n",
            "* Resistência a quedas, água e poeira.\n",
            "* Conforto e ergonomia para uso prolongado.\n",
            "* Durabilidade da bateria.\n",
            "* Funcionalidades adicionais que agregam valor (foco ajustável, modos de iluminação, etc.).\n",
            "* Design moderno e atraente.\n",
            "\n",
            "### Objetivo Geral:\n",
            "Desenvolver uma lanterna inovadora que alie funcionalidade, durabilidade e design ergonômico, tornando-se a escolha ideal para usuários que buscam performance e confiabilidade em qualquer situação.\n",
            "\n",
            "### Requisitos de Design:\n",
            "* **Ergonomia:**  \n",
            "    * Alça ergonômica emborrachada para firmeza e conforto durante o uso prolongado. \n",
            "    * Botão de acionamento intuitivo e de fácil acesso.\n",
            "    * Peso equilibrado para evitar fadiga.\n",
            "* **Usabilidade:**  \n",
            "    * Interface simples e intuitiva, com poucos botões multifuncionais.\n",
            "    * Foco ajustável facilmente.\n",
            "    * Design modular que permite acoplar acessórios.\n",
            "* **Materiais:**  \n",
            "    * Liga de alumínio resistente a impactos e corrosão.\n",
            "    * Borracha antiderrapante para a alça e áreas de contato.\n",
            "    * Lentes de vidro temperado resistentes a riscos.\n",
            "* **Cores:**  \n",
            "    * Preto fosco como cor principal, transmitindo robustez e sofisticação.\n",
            "    * Detalhes em laranja vibrante para destacar botões e funcionalidades.\n",
            "* **Estilo Visual:**  \n",
            "    * Moderno, robusto e funcional. \n",
            "    * Linhas limpas e geométricas, transmitindo precisão e tecnologia.\n",
            "\n",
            "### Requisitos Não Funcionais:\n",
            "* **Segurança:**  \n",
            "    * Produto deve atender aos padrões de segurança internacionais para dispositivos eletrônicos.\n",
            "    * Vedação eficaz contra água e poeira (IP67 ou superior).\n",
            "    * Circuitos protegidos contra superaquecimento.\n",
            "* **Confiabilidade:**  \n",
            "    * Componentes de alta qualidade para garantir longa vida útil.\n",
            "    * Testes rigorosos de resistência e durabilidade.\n",
            "    * Garantia de 2 anos.\n",
            "* **Sustentabilidade:**  \n",
            "    * Uso de materiais reciclados e recicláveis.\n",
            "    * Embalagem minimalista e eco-friendly.\n",
            "    * Bateria recarregável de alta capacidade.\n",
            "\n",
            "### Requisitos Funcionais:\n",
            "* **Iluminação:**  \n",
            "    * LED de alta potência com alcance mínimo de 200 metros.\n",
            "    * Diferentes modos de iluminação: alto, médio, baixo, SOS, strobe.\n",
            "    * Foco ajustável para alternar entre facho concentrado e amplo.\n",
            "* **Bateria:**  \n",
            "    * Bateria recarregável de lítio com autonomia mínima de 5 horas no modo alto.\n",
            "    * Indicador de nível de bateria.\n",
            "    * Possibilidade de carregamento via USB-C.\n",
            "* **Funcionalidades Adicionais:**  \n",
            "    * Base magnética para fixação em superfícies metálicas.\n",
            "    * Clip para cinto ou mochila.\n",
            "    * Possibilidade de acoplar acessórios, como filtros de luz e difusores.\n",
            "\n",
            "A Luminary Grip será a escolha definitiva para quem busca uma lanterna robusta, confiável e versátil, pronta para qualquer desafio. \n",
            "\n"
          ]
        }
      ]
    },
    {
      "cell_type": "markdown",
      "source": [
        "# 🌈✍**SketchInspira**: Briefing em Inspiração 🌈✍"
      ],
      "metadata": {
        "id": "aJvcGKoWP6ki"
      }
    },
    {
      "cell_type": "markdown",
      "source": [
        "Coming Soon!"
      ],
      "metadata": {
        "id": "ybmGUP2l73VH"
      }
    }
  ]
}